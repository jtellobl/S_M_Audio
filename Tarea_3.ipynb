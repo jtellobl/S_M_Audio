{
 "cells": [
  {
   "cell_type": "markdown",
   "id": "2a75bbe2",
   "metadata": {},
   "source": [
    "# Práctica de Procesamiento de Audio\n",
    "\n",
    "En esta práctica, trabajaremos con archivos de audio en formato `.wav` para explorar y entender las diferencias entre audio estéreo y mono. A lo largo de la práctica, realizaremos las siguientes tareas:\n",
    "\n",
    "1. **Importación de Módulos**: Importaremos las bibliotecas necesarias para el procesamiento y visualización de audio.\n",
    "2. **Especificación de Directorios**: Definiremos los directorios de entrada y salida para los archivos de audio.\n",
    "3. **Carga de Archivos de Audio**: Cargaremos un archivo de audio en formato `.wav` y mostraremos sus características principales.\n",
    "4. **Reproducción de Audio**: Escucharemos el audio original en estéreo y luego el audio convertido a mono para notar las diferencias.\n",
    "5. **Conversión de Audio Estéreo a Mono**: Convertiremos el audio estéreo a mono calculando la media de los dos canales.\n",
    "6. **Guardado del Archivo Convertido**: Guardaremos el archivo de audio convertido a mono en el directorio de salida.\n",
    "7. **Visualización de Formas de Onda**: Visualizaremos las formas de onda del audio estéreo y del audio mono en el dominio del tiempo.\n",
    "8. **Comparación de Tamaños de Archivo**: Compararemos los tamaños de los archivos de audio estéreo y mono.\n",
    "\n",
    "## Variables Utilizadas\n",
    "\n",
    "- **audio_data**: `numpy.ndarray` - Datos del archivo de audio en formato estéreo.\n",
    "- **audio_input_path**: `str` - Ruta del directorio de entrada donde se encuentran los archivos de audio originales.\n",
    "- **audio_output_path**: `str` - Ruta del directorio de salida donde se guardarán los archivos de audio generados.\n",
    "- **axs**: `numpy.ndarray` - Subplots utilizados para la visualización de las formas de onda.\n",
    "- **cwd**: `str` - Directorio de trabajo actual.\n",
    "- **fig**: `matplotlib.figure.Figure` - Figura utilizada para la visualización de las formas de onda.\n",
    "- **file_name_2**: `str` - Ruta del archivo de audio original.\n",
    "- **filename**: `str` - Ruta del archivo de audio cargado.\n",
    "- **new_data_mono**: `numpy.ndarray` - Datos del archivo de audio convertido a mono.\n",
    "- **sample_rate**: `int` - Frecuencia de muestreo del archivo de audio.\n",
    "\n",
    "## Objetivos\n",
    "\n",
    "- Entender las diferencias entre audio estéreo y mono.\n",
    "- Aprender a cargar, procesar y guardar archivos de audio en formato `.wav`.\n",
    "- Visualizar las formas de onda del audio en el dominio del tiempo.\n",
    "- Comparar los tamaños de los archivos de audio estéreo y mono.\n",
    "\n",
    "¡Comencemos!\n"
   ]
  },
  {
   "cell_type": "code",
   "execution_count": null,
   "id": "ff564dd9-26cb-4a09-9c47-75d04eef1ce3",
   "metadata": {},
   "outputs": [],
   "source": [
    "# Importacion.\n",
    "#import librosa  # Librería para análisis de audio (comentada porque no se usa en el código actual).\n",
    "from scipy.io import wavfile  # Para leer y escribir archivos de audio en formato WAV.\n",
    "import IPython  # Para la reproducción de audio en Jupyter Notebook.\n",
    "import os  # Para operaciones del sistema de archivos, como rutas y directorios.\n",
    "import numpy as np  # Para operaciones numéricas y manejo de arreglos.\n",
    "import matplotlib.pyplot as plt  # Para la visualización de datos y gráficos."
   ]
  },
  {
   "cell_type": "markdown",
   "id": "973756f6",
   "metadata": {},
   "source": [
    "# Especificar directorios de entrada y salida\n",
    "\n",
    "Aquí definimos los directorios donde guardaremos los audios con los que vamos a trabajar, así como dónde se van a guardar aquellos que generamos a lo largo de la práctica.\n",
    "\n",
    "- **Directorio de entrada**: Contiene los archivos de audio originales con los que vamos a trabajar.\n",
    "    - Ruta: `/home/javier/Escritorio/Sistemas_Multimedia/Audio/S_M_Audio/audio/_input`\n",
    "    \n",
    "- **Directorio de salida**: Aquí se guardarán los archivos de audio generados a lo largo de la práctica.\n",
    "    - Ruta: `/home/javier/Escritorio/Sistemas_Multimedia/Audio/S_M_Audio/audio/_output`\n"
   ]
  },
  {
   "cell_type": "code",
   "execution_count": null,
   "id": "4c9c9bab",
   "metadata": {},
   "outputs": [],
   "source": [
    "cwd = os.getcwd()  # Obtener el directorio de trabajo actual\n",
    "audio_input_path = os.path.join(cwd, os.path.join('audio', '_input'))  # Definir la ruta del directorio de entrada de audio\n",
    "audio_output_path = os.path.join(cwd, os.path.join('audio', '_output'))  # Definir la ruta del directorio de salida de audio\n",
    "print(f'Directorio con los audios de entrada: {audio_input_path}')  # Imprimir la ruta del directorio de entrada\n",
    "print(f'Directorio donde guardaremos los audios generados: {audio_output_path}\\n')  # Imprimir la ruta del directorio de salida"
   ]
  },
  {
   "cell_type": "markdown",
   "id": "7b4e2c90",
   "metadata": {},
   "source": [
    "## Cargar el archivo de audio\n",
    "\n",
    "### Diferencias entre formatos de archivo para almacenar audio digital\n",
    "\n",
    "- **.wav**: Archivo de audio sin comprimir (máxima calidad y gran tamaño de archivo). Típicamente utilizado en edición de audio debido a su fidelidad.\n",
    "- **.mp3**: Archivo de audio comprimido (con pérdidas pero menor tamaño). Ampliamente usado.\n",
    "\n",
    "En este caso, cargamos el archivo de audio en formato .wav.\n"
   ]
  },
  {
   "cell_type": "code",
   "execution_count": null,
   "id": "c0268625",
   "metadata": {},
   "outputs": [],
   "source": [
    "# Cargamos el archivo de audio.\n",
    "filename = os.path.join(audio_input_path, 'breaking_bad.wav')  # Definimos la ruta del archivo de audio.\n",
    "sample_rate, audio_data = wavfile.read(filename)  # Leemos el archivo de audio utilizando wavfile.read.\n",
    "print(f'Frecuencia de muestreo (sample rate): {sample_rate/1000} kHz')  # Imprimimos la frecuencia de muestreo en kHz."
   ]
  },
  {
   "cell_type": "markdown",
   "id": "1c361592",
   "metadata": {},
   "source": [
    "## Vamos a escucharlo\n",
    "\n",
    "Para que esto se haga correctamente, hay que indicarle la frecuencia de muestreo.\n",
    "\n",
    "### Frecuencia de Muestreo\n",
    "\n",
    "La frecuencia de muestreo, también conocida como tasa de muestreo, es la cantidad de muestras de audio que se toman por segundo para representar una señal de audio digitalmente. Se mide en Hertz (Hz) y determina la calidad y la fidelidad del audio digital. Una frecuencia de muestreo más alta significa una mejor calidad de audio, ya que captura más detalles de la señal original.\n",
    "\n",
    "En este caso, la frecuencia de muestreo de nuestro archivo de audio es de 44.1 kHz, lo que significa que se toman 44,100 muestras por segundo.\n",
    "\n",
    "\n",
    "### Escuchar el Audio\n",
    "\n",
    "Vamos a escuchar el audio original en estéreo y luego el audio convertido a mono para notar las diferencias."
   ]
  },
  {
   "cell_type": "code",
   "execution_count": null,
   "id": "e7f16796",
   "metadata": {},
   "outputs": [],
   "source": [
    "IPython.display.Audio(audio_data.T, rate=sample_rate)  # Reproduce el audio estéreo. .T se pasa únicamente si es audio estéreo."
   ]
  },
  {
   "cell_type": "markdown",
   "id": "29a49cc1",
   "metadata": {},
   "source": [
    "## Mostrar principales características de la onda\n",
    "\n",
    "Vamos a mostrar la información. Nota: es audio estéreo (dos canales).\n",
    "\n"
   ]
  },
  {
   "cell_type": "code",
   "execution_count": null,
   "id": "09c58f50",
   "metadata": {},
   "outputs": [],
   "source": [
    "# Mostrar informacion (sonido estéreo).\n",
    "print('Datos de audio (estereo):')  # Imprime el encabezado de la información del audio estéreo.\n",
    "print(f'- Tamaño:     {audio_data.shape}')  # Imprime el tamaño del arreglo de datos de audio.\n",
    "print(f'- 1º canal:   {audio_data[:5, 0]}...')  # Imprime los primeros 5 valores del primer canal.\n",
    "print(f'- 2º canal:   {audio_data[:5, 1]}...')  # Imprime los primeros 5 valores del segundo canal.\n",
    "print(f'- Resolucion: {type(audio_data[0,0])}\\n')  # Imprime el tipo de dato de los valores del audio.\n"
   ]
  },
  {
   "cell_type": "markdown",
   "id": "31908c78",
   "metadata": {},
   "source": [
    "### Información del Audio Estéreo\n",
    "\n",
    "- **Tamaño**: Dimensiones del arreglo de datos de audio.\n",
    "- **1º Canal**: Primeros 5 valores del primer canal.\n",
    "- **2º Canal**: Primeros 5 valores del segundo canal.\n",
    "- **Resolución**: Tipo de dato de los valores del audio.\n",
    "\n",
    "El siguiente código imprime esta información:\n"
   ]
  },
  {
   "cell_type": "markdown",
   "id": "a9763549",
   "metadata": {},
   "source": [
    "### Conversión a Mono\n",
    "\n",
    "Convertimos el audio estéreo a mono calculando la media de los dos canales para cada muestra de audio.\n",
    "\n"
   ]
  },
  {
   "cell_type": "code",
   "execution_count": null,
   "id": "3fff14d4",
   "metadata": {},
   "outputs": [],
   "source": [
    "# Convertimos a mono mediante la media por canal (simplificacion).\n",
    "new_data_mono = audio_data.mean(axis=1)  # Calculamos la media de los dos canales para cada muestra de audio.\n",
    "\n",
    "print('Nuevos datos de audio (mono):')  # Imprimimos el encabezado de la información del audio mono.\n",
    "print(f'- Nuevo tamaño: {new_data_mono.shape}')  # Imprimimos el tamaño del arreglo de datos de audio mono.\n",
    "print(f'- Canal unico:  {new_data_mono[:5]}...')  # Imprimimos los primeros 5 valores del canal único.\n",
    "\n",
    "# Mantenemos la misma resolucion que antes.\n",
    "new_data_mono = new_data_mono.astype(np.int16)  # Convertimos los datos a tipo int16 para mantener la misma resolución.\n",
    "print(f'- Resolucion:   {type(new_data_mono[0])}\\n')  # Imprimimos el tipo de dato de los valores del audio mono."
   ]
  },
  {
   "cell_type": "markdown",
   "id": "860fbcab",
   "metadata": {},
   "source": [
    "## Guardar el Archivo de Audio Convertido\n",
    "\n",
    "Vamos a guardar el archivo de audio convertido a mono en el directorio de salida especificado.\n",
    "\n",
    "### Proceso de Guardado\n",
    "\n",
    "1. **Crear el Directorio de Salida**: Si el directorio de salida no existe, lo creamos.\n",
    "2. **Guardar el Archivo Mono**: Utilizamos la función `wavfile.write` para guardar el archivo de audio en formato `.wav`.\n",
    "\n",
    "### Código para Guardar el Archivo\n",
    "\n",
    "El siguiente código realiza el proceso de guardado:\n"
   ]
  },
  {
   "cell_type": "code",
   "execution_count": null,
   "id": "5269f38d",
   "metadata": {},
   "outputs": [],
   "source": [
    "# Crear el directorio de salida si no existe.\n",
    "os.makedirs(audio_output_path, exist_ok=True)  # Crea el directorio de salida si no existe, con exist_ok=True para evitar errores si ya existe.\n",
    "\n",
    "# Guardamos el archivo mono a un fichero de tipo wav.\n",
    "wavfile.write(  # Utiliza wavfile.write para guardar el archivo de audio.\n",
    "    filename=os.path.join(audio_output_path, 'breaking_bad_mono.wav'),  # Especifica la ruta y el nombre del archivo de salida.\n",
    "    rate=sample_rate,  # Especifica la frecuencia de muestreo del archivo de audio.\n",
    "    data=new_data_mono  # Especifica los datos de audio que se van a guardar.\n",
    ")"
   ]
  },
  {
   "cell_type": "markdown",
   "id": "94f766a9",
   "metadata": {},
   "source": [
    "## Vamos a escucharlo de nuevo\n",
    "\n",
    "En esta sección, vamos a reproducir el audio convertido a mono para notar las diferencias con el audio estéreo original."
   ]
  },
  {
   "cell_type": "code",
   "execution_count": null,
   "id": "4838bf46",
   "metadata": {},
   "outputs": [],
   "source": [
    "IPython.display.Audio(new_data_mono, rate=sample_rate)  # Reproduce el audio mono utilizando la frecuencia de muestreo original."
   ]
  },
  {
   "cell_type": "markdown",
   "id": "62b7c606",
   "metadata": {},
   "source": [
    "Se nota que ahora es sonido mono (sobre todo si se utilizan cascos).\n",
    "\n",
    "### Diferencias entre Audio Mono y Estéreo\n",
    "\n",
    "<ul>\n",
    "    <li><b>Mono</b>: Se escucha lo mismo por el auricular derecho que por el izquierdo.</li>\n",
    "    <li><b>Estéreo</b>: No se escucha el mismo sonido por ambos canales, sino que se notan variaciones entre los dos.</li>\n",
    "</ul>\n",
    "\n",
    "**Audio Mono**:\n",
    "- Utiliza un solo canal para la reproducción del sonido.\n",
    "- El mismo sonido se reproduce por igual en ambos altavoces o auriculares.\n",
    "- Es más simple y ocupa menos espacio de almacenamiento en comparación con el audio estéreo.\n",
    "- Ideal para situaciones donde la localización del sonido no es importante, como en llamadas telefónicas o altavoces de baja calidad.\n",
    "\n",
    "**Audio Estéreo**:\n",
    "- Utiliza dos canales independientes para la reproducción del sonido.\n",
    "- Los sonidos pueden ser diferentes en el altavoz izquierdo y derecho, creando una sensación de espacialidad y profundidad.\n",
    "- Es más complejo y ocupa más espacio de almacenamiento en comparación con el audio mono.\n",
    "- Ideal para música y películas, donde la localización del sonido y la calidad de la experiencia auditiva son importantes.\n",
    "\n",
    "En resumen, la principal diferencia radica en la cantidad de canales utilizados: el audio mono utiliza un solo canal, mientras que el audio estéreo utiliza dos canales, proporcionando una experiencia auditiva más rica y envolvente."
   ]
  },
  {
   "cell_type": "markdown",
   "id": "7a8fcda2",
   "metadata": {},
   "source": [
    "Vamos a ver las diferencias en tamaño de cada archivo."
   ]
  },
  {
   "cell_type": "code",
   "execution_count": null,
   "id": "c899324b",
   "metadata": {},
   "outputs": [],
   "source": [
    "# Mostrar el tamaño del archivo de audio estéreo original.\n",
    "!ls -sh audio/_input/breaking_bad.wav  # Lista el tamaño del archivo breaking_bad.wav en el directorio de entrada.\n",
    "\n",
    "# Mostrar el tamaño del archivo de audio convertido a mono.\n",
    "!ls -sh audio/_output/breaking_bad_mono.wav  # Lista el tamaño del archivo breaking_bad_mono.wav en el directorio de salida."
   ]
  },
  {
   "cell_type": "markdown",
   "id": "994a77dc",
   "metadata": {},
   "source": [
    "Como podemos ver, el tamaño del archivo de audio se ha reducido a la mitad al convertirlo de estéreo a mono, manteniendo la misma frecuencia de muestreo. \n",
    "\n",
    "### Frecuencia de Muestreo (*Sample Rate*)\n",
    "\n",
    "La frecuencia de muestreo es la cantidad de muestras de audio que se toman por segundo para representar una señal de audio digitalmente. Se mide en Hertz (Hz) y determina la calidad y la fidelidad del audio digital. Una frecuencia de muestreo más alta significa una mejor calidad de audio, ya que captura más detalles de la señal original.\n",
    "\n",
    "En este caso, la frecuencia de muestreo del archivo de audio es de 44.1 kHz, lo que significa que se toman 44,100 muestras por segundo.\n",
    "\n",
    "Mostramos por pantalla la frecuencia de muestreo (*sample rate*) del archivo de audio:"
   ]
  },
  {
   "cell_type": "code",
   "execution_count": null,
   "id": "72adb0e8",
   "metadata": {},
   "outputs": [],
   "source": [
    "# Imprime la frecuencia de muestreo en kHz\n",
    "print(f'Frecuencia de muestreo (sample rate): {sample_rate/1000} kHz\\n')"
   ]
  },
  {
   "cell_type": "markdown",
   "id": "0e71fe4c",
   "metadata": {},
   "source": [
    "## Visualización de Audio Estéreo y Mono\n",
    "\n",
    "En esta sección, vamos a visualizar las formas de onda del audio estéreo y del audio mono en el dominio del tiempo.\n",
    "\n",
    "### Gráfica del Audio Estéreo\n",
    "\n",
    "La gráfica del audio estéreo muestra las formas de onda de los dos canales (izquierdo y derecho) del archivo de audio original. Cada canal se representa con una línea diferente en la gráfica.\n",
    "\n",
    "### Gráfica del Audio Mono\n",
    "\n",
    "La gráfica del audio mono muestra la forma de onda del archivo de audio convertido a mono. En este caso, la forma de onda es una combinación de los dos canales originales, calculada como la media de ambos.\n",
    "\n",
    "### Código para Generar las Gráficas\n",
    "\n",
    "El siguiente código crea una figura con dos subplots: uno para el audio estéreo y otro para el audio mono. Cada subplot muestra la forma de onda correspondiente en el dominio del tiempo."
   ]
  },
  {
   "cell_type": "code",
   "execution_count": null,
   "id": "b716dec8",
   "metadata": {},
   "outputs": [],
   "source": [
    "# Crear una figura con dos subplots.\n",
    "fig, axs = plt.subplots(2, 1, figsize=(15, 10))  # Crea una figura con dos subplots, uno encima del otro, y define el tamaño de la figura.\n",
    "\n",
    "# Gráfica del audio estéreo.\n",
    "axs[0].plot(audio_data[:1000, 0], label='Canal 1')  # Grafica los primeros 1000 puntos del primer canal del audio estéreo.\n",
    "axs[0].plot(audio_data[:1000, 1], label='Canal 2')  # Grafica los primeros 1000 puntos del segundo canal del audio estéreo.\n",
    "axs[0].set_title('Audio Estéreo en el Dominio del Tiempo')  # Establece el título del subplot para el audio estéreo.\n",
    "axs[0].set_xlabel('Muestras')  # Establece la etiqueta del eje x para el subplot del audio estéreo.\n",
    "axs[0].set_ylabel('Amplitud')  # Establece la etiqueta del eje y para el subplot del audio estéreo.\n",
    "axs[0].legend()  # Muestra la leyenda del subplot del audio estéreo.\n",
    "\n",
    "# Gráfica del audio mono.\n",
    "axs[1].plot(new_data_mono[:1000], label='Mono', color='orange')  # Grafica los primeros 1000 puntos del audio mono.\n",
    "axs[1].set_title('Audio Mono en el Dominio del Tiempo')  # Establece el título del subplot para el audio mono.\n",
    "axs[1].set_xlabel('Muestras')  # Establece la etiqueta del eje x para el subplot del audio mono.\n",
    "axs[1].set_ylabel('Amplitud')  # Establece la etiqueta del eje y para el subplot del audio mono.\n",
    "axs[1].legend()  # Muestra la leyenda del subplot del audio mono.\n",
    "\n",
    "# Mostrar la gráfica.\n",
    "plt.tight_layout()  # Ajusta el diseño de la figura para que los subplots no se solapen.\n",
    "plt.show()  # Muestra la figura con los subplots."
   ]
  },
  {
   "cell_type": "markdown",
   "id": "d319d9bb",
   "metadata": {},
   "source": [
    "### Diferencia entre audio estéreo y mono\n",
    "\n",
    "**Audio Mono**:\n",
    "- El audio mono (monofónico) utiliza un solo canal para la reproducción del sonido.\n",
    "- En un sistema de audio mono, el mismo sonido se reproduce por igual en ambos altavoces o auriculares.\n",
    "- Es más simple y ocupa menos espacio de almacenamiento en comparación con el audio estéreo.\n",
    "- Es ideal para situaciones donde la localización del sonido no es importante, como en llamadas telefónicas o altavoces de baja calidad.\n",
    "\n",
    "**Audio Estéreo**:\n",
    "- El audio estéreo (estereofónico) utiliza dos canales independientes para la reproducción del sonido.\n",
    "- En un sistema de audio estéreo, los sonidos pueden ser diferentes en el altavoz izquierdo y derecho, creando una sensación de espacialidad y profundidad.\n",
    "- Es más complejo y ocupa más espacio de almacenamiento en comparación con el audio mono.\n",
    "- Es ideal para música y películas, donde la localización del sonido y la calidad de la experiencia auditiva son importantes.\n",
    "\n",
    "En resumen, la principal diferencia radica en la cantidad de canales utilizados: el audio mono utiliza un solo canal, mientras que el audio estéreo utiliza dos canales, proporcionando una experiencia auditiva más rica y envolvente."
   ]
  }
 ],
 "metadata": {
  "kernelspec": {
   "display_name": "taera_audio_s_m_",
   "language": "python",
   "name": "taera_audio_s_m_"
  },
  "language_info": {
   "codemirror_mode": {
    "name": "ipython",
    "version": 3
   },
   "file_extension": ".py",
   "mimetype": "text/x-python",
   "name": "python",
   "nbconvert_exporter": "python",
   "pygments_lexer": "ipython3",
   "version": "3.10.9"
  }
 },
 "nbformat": 4,
 "nbformat_minor": 5
}
